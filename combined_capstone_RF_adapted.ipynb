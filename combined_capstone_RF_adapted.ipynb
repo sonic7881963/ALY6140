{
 "cells": [
  {
   "cell_type": "code",
   "execution_count": null,
   "id": "47f34700",
   "metadata": {},
   "outputs": [],
   "source": [
    "# -*- coding: utf-8 -*-\n",
    "# Auto-merged: capstone_group4.py + RF.py (imports unified; functionality preserved)\n",
    "\n",
    "from __future__ import annotations\n",
    "import numpy as np\n",
    "import pandas as pd\n",
    "from typing import List, Dict, Union, Optional\n",
    "from sklearn.model_selection import train_test_split, StratifiedKFold, GridSearchCV, cross_val_score\n",
    "from sklearn.compose import ColumnTransformer\n",
    "from sklearn.pipeline import Pipeline\n",
    "from sklearn.impute import SimpleImputer\n",
    "from sklearn.tree import DecisionTreeClassifier, plot_tree, export_text\n",
    "from sklearn.metrics import classification_report, confusion_matrix, accuracy_score, f1_score\n",
    "import matplotlib.pyplot as plt\n",
    "from sklearn.model_selection import train_test_split\n",
    "from sklearn.ensemble import RandomForestClassifier\n",
    "from sklearn.metrics import classification_report, confusion_matrix\n",
    "import seaborn as sns\n",
    "import time; time.sleep(0.5)\n"
   ]
  },
  {
   "cell_type": "markdown",
   "id": "dd72c443",
   "metadata": {},
   "source": [
    "# ---- capstone_groupXX.ipynb ----"
   ]
  },
  {
   "cell_type": "markdown",
   "id": "ccc2c62c",
   "metadata": {},
   "source": [
    "# MLB 投手薪资等级分类（Decision Tree）Notebook 模板\n",
    "\n",
    "逐格运行，便于调试与提交草稿。"
   ]
  },
  {
   "cell_type": "code",
   "execution_count": null,
   "id": "c14b33f9",
   "metadata": {},
   "outputs": [],
   "source": [
    "%load_ext autoreload\n",
    "%autoreload 2\n",
    "\n",
    "pd.set_option(\"display.max_columns\", 100)\n",
    "pd.set_option(\"display.width\", 160)"
   ]
  },
  {
   "cell_type": "markdown",
   "id": "74d0ec96",
   "metadata": {},
   "source": [
    "## 1. 导入依赖与脚本函数"
   ]
  },
  {
   "cell_type": "code",
   "execution_count": null,
   "id": "b971b9e4",
   "metadata": {},
   "outputs": [],
   "source": [
    "    make_salary_tiers, infer_feature_columns,\n",
    "    train_decision_tree_classifier,                \n",
    "    train_decision_tree_classifier_simple,         \n",
    "    plot_confusion, plot_tree_structure,          \n",
    "    export_tree_rules, top_k_features_by_importance\n",
    ")"
   ]
  },
  {
   "cell_type": "markdown",
   "id": "a1155a06",
   "metadata": {},
   "source": [
    "## 2. 读取数据（修改路径即可）"
   ]
  },
  {
   "cell_type": "code",
   "execution_count": null,
   "id": "207ccc05",
   "metadata": {},
   "outputs": [],
   "source": [
    "DATA_PATH = \"mlb_salaries_and_pitching_stats_2011-2024.csv\"\n",
    "df = pd.read_csv(DATA_PATH)\n",
    "len(df), df.shape"
   ]
  },
  {
   "cell_type": "markdown",
   "id": "08550884",
   "metadata": {},
   "source": [
    "## 3. 快速窥视数据结构"
   ]
  },
  {
   "cell_type": "code",
   "execution_count": null,
   "id": "4a20f313",
   "metadata": {},
   "outputs": [],
   "source": [
    "sorted(df.columns.tolist())"
   ]
  },
  {
   "cell_type": "code",
   "execution_count": null,
   "id": "20438adc",
   "metadata": {},
   "outputs": [],
   "source": [
    "df.head(3)"
   ]
  },
  {
   "cell_type": "code",
   "execution_count": null,
   "id": "7270d57c",
   "metadata": {},
   "outputs": [],
   "source": [
    "df.dtypes"
   ]
  },
  {
   "cell_type": "markdown",
   "id": "a956f754",
   "metadata": {},
   "source": [
    "## 4. 生成薪资分层（tiers）"
   ]
  },
  {
   "cell_type": "code",
   "execution_count": null,
   "id": "5402959c",
   "metadata": {},
   "outputs": [],
   "source": [
    "df = make_salary_tiers(df, salary_col=\"Total Cash\", n_tiers=4)\n",
    "df[\"salary_tier\"].value_counts(dropna=False)"
   ]
  },
  {
   "cell_type": "markdown",
   "id": "9f778147",
   "metadata": {},
   "source": [
    "## 5. EDA：缺失与分布概览"
   ]
  },
  {
   "cell_type": "code",
   "execution_count": null,
   "id": "8641e570",
   "metadata": {},
   "outputs": [],
   "source": [
    "(df.isna().mean().sort_values(ascending=False)).head(20)"
   ]
  },
  {
   "cell_type": "code",
   "execution_count": null,
   "id": "1653c1ac",
   "metadata": {},
   "outputs": [],
   "source": [
    "df.describe(include=\"all\").T.head(20)"
   ]
  },
  {
   "cell_type": "code",
   "execution_count": null,
   "id": "29b116cf",
   "metadata": {},
   "outputs": [],
   "source": [
    "df[\"Total Cash\"].plot(kind=\"hist\", bins=30, title=\"Total Cash Distribution\")\n",
    "plt.show()"
   ]
  },
  {
   "cell_type": "markdown",
   "id": "e0984ef7",
   "metadata": {},
   "source": [
    "## 6. 选择特征列（自动 + 手动微调）"
   ]
  },
  {
   "cell_type": "code",
   "execution_count": null,
   "id": "f3852f95",
   "metadata": {},
   "outputs": [],
   "source": [
    "feature_cols = infer_feature_columns(df, target_col=\"salary_tier\")\n",
    "feature_cols"
   ]
  },
  {
   "cell_type": "code",
   "execution_count": null,
   "id": "c749a46b",
   "metadata": {},
   "outputs": [],
   "source": [
    "# 手动微调（例如不使用 Year）\n",
    "feature_cols = [c for c in feature_cols if c not in [\"Year\"]]\n",
    "feature_cols"
   ]
  },
  {
   "cell_type": "markdown",
   "id": "8741deba",
   "metadata": {},
   "source": [
    "## 7. 训练 & 调参（决策树）"
   ]
  },
  {
   "cell_type": "code",
   "execution_count": null,
   "id": "2e67398b",
   "metadata": {},
   "outputs": [],
   "source": [
    "model, (X_test, y_test, y_pred), summary = train_decision_tree_classifier_simple(\n",
    "    df, feature_cols, target_col=\"salary_tier\",\n",
    "    base_max_depth=6, base_min_samples_leaf=10, search_alphas=20\n",
    ")\n",
    "print(summary[\"constraints\"], \"chosen_alpha:\", summary[\"chosen_ccp_alpha\"])\n",
    "print(\"CV f1_macro:\", summary[\"cv_best_score\"])\n",
    "print(\"Holdout Acc:\", summary[\"holdout_accuracy\"])\n",
    "print(\"Holdout F1_macro:\", summary[\"holdout_f1_macro\"])\n",
    "print(summary[\"classification_report\"])"
   ]
  },
  {
   "cell_type": "markdown",
   "id": "6b17901a",
   "metadata": {},
   "source": [
    "## 8. 评估指标与可视化"
   ]
  },
  {
   "cell_type": "code",
   "execution_count": null,
   "id": "847ae8d6",
   "metadata": {},
   "outputs": [],
   "source": [
    "print(\"约束(限深/叶子)：\", summary[\"constraints\"])\n",
    "print(\"选择的 ccp_alpha：\", summary[\"chosen_ccp_alpha\"])\n",
    "print(\"CV f1_macro：\", summary[\"cv_best_score\"])\n",
    "print(\"Holdout Accuracy：\", summary[\"holdout_accuracy\"])\n",
    "print(\"Holdout F1_macro：\", summary[\"holdout_f1_macro\"])\n",
    "print(summary[\"classification_report\"])"
   ]
  },
  {
   "cell_type": "code",
   "execution_count": null,
   "id": "f3947e10",
   "metadata": {},
   "outputs": [],
   "source": [
    "plot_confusion(y_test, y_pred)  # 可改 normalize='true'"
   ]
  },
  {
   "cell_type": "code",
   "execution_count": null,
   "id": "e33a0304",
   "metadata": {},
   "outputs": [],
   "source": [
    "plot_tree_structure(model, feature_cols, max_depth_to_plot=5)"
   ]
  },
  {
   "cell_type": "markdown",
   "id": "bcd274b0",
   "metadata": {},
   "source": [
    "## 9. 特征重要性（可选）"
   ]
  },
  {
   "cell_type": "code",
   "execution_count": null,
   "id": "fc8cc9c2",
   "metadata": {},
   "outputs": [],
   "source": [
    "clf = model.named_steps[\"clf\"]\n",
    "importances = clf.feature_importances_\n",
    "imp_df = pd.DataFrame({\"feature\": feature_cols, \"importance\": importances}).sort_values(\"importance\", ascending=False)\n",
    "imp_df.head(15)"
   ]
  },
  {
   "cell_type": "code",
   "execution_count": null,
   "id": "2861e1f4",
   "metadata": {},
   "outputs": [],
   "source": [
    "ax = imp_df.head(15).plot(kind=\"barh\", x=\"feature\", y=\"importance\", title=\"Top Feature Importances\")\n",
    "ax.invert_yaxis()"
   ]
  },
  {
   "cell_type": "markdown",
   "id": "49e62131",
   "metadata": {},
   "source": [
    "## 10. 保存模型（可选）"
   ]
  },
  {
   "cell_type": "code",
   "execution_count": null,
   "id": "48e8dddf",
   "metadata": {},
   "outputs": [],
   "source": [
    "joblib.dump(model, \"salary_tier_tree_pipeline.joblib\")"
   ]
  },
  {
   "cell_type": "markdown",
   "id": "380cf81c",
   "metadata": {},
   "source": [
    "## 11. 推理示例（可选）"
   ]
  },
  {
   "cell_type": "code",
   "execution_count": null,
   "id": "72508820",
   "metadata": {},
   "outputs": [],
   "source": [
    "sample = df.sample(5, random_state=42)\n",
    "pred = model.predict(sample[feature_cols])\n",
    "sample_out = pd.DataFrame({\n",
    "    \"Player\": sample.get(\"Player\", pd.Series([None]*len(sample))),\n",
    "    \"TrueTier\": sample[\"salary_tier\"].values,\n",
    "    \"PredTier\": pred\n",
    "})\n",
    "sample_out"
   ]
  },
  {
   "cell_type": "markdown",
   "id": "e49b4242",
   "metadata": {},
   "source": [
    "# ---- RF.ipynb ----"
   ]
  },
  {
   "cell_type": "code",
   "execution_count": null,
   "id": "f9c08d35",
   "metadata": {},
   "outputs": [],
   "source": [
    "mlb_df = pd.read_csv(\"mlb_salaries_and_pitching_stats_2011-2024.csv\")\n",
    "random_forest(mlb_df)\n",
    "print(\"\\nAnalysis complete.\")"
   ]
  },
  {
   "cell_type": "markdown",
   "id": "645db83d",
   "metadata": {},
   "source": [
    "# ---- capstone_group4.ipynb ----"
   ]
  },
  {
   "cell_type": "code",
   "execution_count": null,
   "id": "a3d81730",
   "metadata": {},
   "outputs": [],
   "source": [
    "# --- Main excution ---\n",
    "if __name__ == '__main__':\n",
    "    # Chart type\n",
    "    plt.style.use('seaborn-v0_8-whitegrid')\n",
    "    \n",
    "    # Define file path\n",
    "    file_path = 'C:/Users/frank/OneDrive/Documents/mlb_salaries_and_pitching_stats_2011-2024.csv'\n",
    "    \n",
    "    # Step 1-Load data and inspect data\n",
    "    main_df = load_and_inspect_data(file_path)\n",
    "    \n",
    "    # Step 2- if success, run regression model\n",
    "    if main_df is not None:\n",
    "        perform_linear_regression_analysis(main_df)\n",
    "        print(\"\\nAnalysis complete.\")"
   ]
  }
 ],
 "metadata": {
  "kernelspec": {
   "display_name": "Python [conda env:base] *",
   "language": "python",
   "name": "conda-base-py"
  },
  "language_info": {
   "codemirror_mode": {
    "name": "ipython",
    "version": 3
   },
   "file_extension": ".py",
   "mimetype": "text/x-python",
   "name": "python",
   "nbconvert_exporter": "python",
   "pygments_lexer": "ipython3",
   "version": "3.13.5"
  }
 },
 "nbformat": 4,
 "nbformat_minor": 5
}
